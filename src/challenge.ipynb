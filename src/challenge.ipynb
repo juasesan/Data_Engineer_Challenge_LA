{
 "cells": [
  {
   "cell_type": "markdown",
   "metadata": {},
   "source": [
    "En este archivo puedes escribir lo que estimes conveniente. Te recomendamos detallar tu solución y todas las suposiciones que estás considerando. Aquí puedes ejecutar las funciones que definiste en los otros archivos de la carpeta src, medir el tiempo, memoria, etc."
   ]
  },
  {
   "cell_type": "code",
   "execution_count": 1,
   "metadata": {},
   "outputs": [],
   "source": [
    "import pandas as pd\n",
    "import numpy as np\n",
    "import json\n",
    "from q1_memory import q1_memory\n",
    "from q1_time import q1_time\n",
    "from q2_time import q2_time\n",
    "from q2_memory import q2_memory\n",
    "from q3_time import q3_time\n",
    "from q3_memory import q3_memory\n",
    "\n",
    "%load_ext memory_profiler\n",
    "%load_ext line_profiler"
   ]
  },
  {
   "cell_type": "code",
   "execution_count": 2,
   "metadata": {},
   "outputs": [],
   "source": [
    "file_path = \"../data/farmers-protest-tweets-2021-2-4.json\""
   ]
  },
  {
   "cell_type": "markdown",
   "metadata": {},
   "source": [
    "# Q1 Memory"
   ]
  },
  {
   "cell_type": "code",
   "execution_count": 3,
   "metadata": {},
   "outputs": [
    {
     "data": {
      "text/plain": [
       "[(datetime.date(2021, 2, 12), 'RanbirS00614606'),\n",
       " (datetime.date(2021, 2, 13), 'MaanDee08215437'),\n",
       " (datetime.date(2021, 2, 17), 'RaaJVinderkaur'),\n",
       " (datetime.date(2021, 2, 16), 'jot__b'),\n",
       " (datetime.date(2021, 2, 14), 'rebelpacifist'),\n",
       " (datetime.date(2021, 2, 18), 'neetuanjle_nitu'),\n",
       " (datetime.date(2021, 2, 15), 'jot__b'),\n",
       " (datetime.date(2021, 2, 20), 'MangalJ23056160'),\n",
       " (datetime.date(2021, 2, 23), 'Surrypuria'),\n",
       " (datetime.date(2021, 2, 19), 'Preetm91')]"
      ]
     },
     "execution_count": 3,
     "metadata": {},
     "output_type": "execute_result"
    }
   ],
   "source": [
    "q1_memory(file_path)"
   ]
  },
  {
   "cell_type": "code",
   "execution_count": 4,
   "metadata": {},
   "outputs": [
    {
     "name": "stdout",
     "output_type": "stream",
     "text": [
      "\n"
     ]
    },
    {
     "name": "stdout",
     "output_type": "stream",
     "text": [
      "Filename: e:\\Github projects\\Data_Engineer_Challenge_LA\\src\\q1_memory.py\n",
      "\n",
      "Line #    Mem usage    Increment  Occurrences   Line Contents\n",
      "=============================================================\n",
      "     9    144.7 MiB    144.7 MiB           1   def q1_memory(file_path: str) -> List[Tuple[datetime.date, str]]:\n",
      "    10    150.2 MiB      0.0 MiB           2       with open(file_path, \"r\") as tweets_file:\n",
      "    11    150.2 MiB -43855.5 MiB      117410           df = [(json.loads(line)['date'], json.loads(line)['user']['username']) for line in tweets_file]\n",
      "    12                                             \n",
      "    13    150.4 MiB      0.2 MiB           1       df = pd.DataFrame(df, columns=['date', 'username'])\n",
      "    14    156.3 MiB      5.9 MiB           1       df['date'] = pd.to_datetime(df['date']).dt.date\n",
      "    15                                         \n",
      "    16    160.9 MiB     -5.6 MiB          27       df = df.groupby('date').agg({'username':[lambda x: x.count(), first_mode]}).reset_index()\n",
      "    17    150.7 MiB    -10.2 MiB           1       df.columns=['date', 'count', 'user']\n",
      "    18                                         \n",
      "    19    150.7 MiB      0.0 MiB           1       df = df.sort_values(by='count', ascending=False).head(10)\n",
      "    20                                         \n",
      "    21    150.7 MiB      0.0 MiB           1       return list(zip(df['date'], df['user']))"
     ]
    }
   ],
   "source": [
    "%mprun -f q1_memory q1_memory(file_path)"
   ]
  },
  {
   "cell_type": "markdown",
   "metadata": {},
   "source": [
    "# Q1 Time"
   ]
  },
  {
   "cell_type": "code",
   "execution_count": 5,
   "metadata": {},
   "outputs": [
    {
     "data": {
      "text/plain": [
       "[(datetime.date(2021, 2, 12), 'RanbirS00614606'),\n",
       " (datetime.date(2021, 2, 13), 'MaanDee08215437'),\n",
       " (datetime.date(2021, 2, 14), 'rebelpacifist'),\n",
       " (datetime.date(2021, 2, 15), 'jot__b'),\n",
       " (datetime.date(2021, 2, 16), 'jot__b'),\n",
       " (datetime.date(2021, 2, 17), 'RaaJVinderkaur'),\n",
       " (datetime.date(2021, 2, 18), 'neetuanjle_nitu'),\n",
       " (datetime.date(2021, 2, 19), 'Preetm91'),\n",
       " (datetime.date(2021, 2, 20), 'MangalJ23056160'),\n",
       " (datetime.date(2021, 2, 23), 'Surrypuria')]"
      ]
     },
     "execution_count": 5,
     "metadata": {},
     "output_type": "execute_result"
    }
   ],
   "source": [
    "q1_time(file_path)"
   ]
  },
  {
   "cell_type": "code",
   "execution_count": 6,
   "metadata": {},
   "outputs": [
    {
     "name": "stdout",
     "output_type": "stream",
     "text": [
      "Timer unit: 1e-07 s\n",
      "\n",
      "Total time: 6.58461 s\n",
      "File: e:\\Github projects\\Data_Engineer_Challenge_LA\\src\\q1_time.py\n",
      "Function: q1_time at line 9\n",
      "\n",
      "Line #      Hits         Time  Per Hit   % Time  Line Contents\n",
      "==============================================================\n",
      "     9                                           def q1_time(file_path: str) -> List[Tuple[datetime.date, str]]:\n",
      "    10         2       2931.0   1465.5      0.0      with open(file_path, \"r\") as tweets_file:\n",
      "    11         1   60912427.0    6e+07     92.5          df = [(json.loads(line)['date'], json.loads(line)['user']['username']) for line in tweets_file]\n",
      "    12                                           \n",
      "    13         1     252056.0 252056.0      0.4      df = pd.DataFrame(df, columns=['date', 'username'])\n",
      "    14         1    4153950.0    4e+06      6.3      df['date'] = pd.to_datetime(df['date']).dt.date\n",
      "    15                                           \n",
      "    16         1      54470.0  54470.0      0.1      top_dates = df['date'].value_counts().head(10).index.tolist()\n",
      "    17                                           \n",
      "    18         1      93049.0  93049.0      0.1      df = df[df['date'].isin(top_dates)]\n",
      "    19                                           \n",
      "    20         1     375108.0 375108.0      0.6      df = df.groupby('date').agg({'username': first_mode}).reset_index()\n",
      "    21                                           \n",
      "    22         1       2109.0   2109.0      0.0      return list(zip(df['date'], df['username']))"
     ]
    }
   ],
   "source": [
    "%lprun -f q1_time q1_time(file_path)"
   ]
  },
  {
   "cell_type": "markdown",
   "metadata": {},
   "source": [
    "# Q2 Memory"
   ]
  },
  {
   "cell_type": "code",
   "execution_count": 3,
   "metadata": {},
   "outputs": [
    {
     "data": {
      "text/plain": [
       "[('🙏', 5049),\n",
       " ('😂', 3072),\n",
       " ('🚜', 2972),\n",
       " ('🌾', 2182),\n",
       " ('🇮🇳', 2086),\n",
       " ('🤣', 1668),\n",
       " ('✊', 1651),\n",
       " ('❤️', 1382),\n",
       " ('🙏🏻', 1317),\n",
       " ('💚', 1040)]"
      ]
     },
     "execution_count": 3,
     "metadata": {},
     "output_type": "execute_result"
    }
   ],
   "source": [
    "q2_memory(file_path)"
   ]
  },
  {
   "cell_type": "code",
   "execution_count": 3,
   "metadata": {},
   "outputs": [
    {
     "name": "stdout",
     "output_type": "stream",
     "text": [
      "Timer unit: 1e-07 s\n",
      "\n",
      "Total time: 80.5061 s\n",
      "File: e:\\Github projects\\Data_Engineer_Challenge_LA\\src\\q2_memory.py\n",
      "Function: q2_memory at line 7\n",
      "\n",
      "Line #      Hits         Time  Per Hit   % Time  Line Contents\n",
      "==============================================================\n",
      "     7                                           def q2_memory(file_path: str) -> List[Tuple[str, int]]:\n",
      "     8         1        142.0    142.0      0.0      emoji_counts = Counter()\n",
      "     9                                           \n",
      "    10         2       2262.0   1131.0      0.0      with open(file_path, \"r\") as tweets_file:\n",
      "    11    117408   15297868.0    130.3      1.9          for line in tweets_file:\n",
      "    12    117407  784358456.0   6680.7     97.4              emojis = extract_emojis(json.loads(line)['content'])\n",
      "    13    117407    5395985.0     46.0      0.7              emoji_counts.update(emojis)\n",
      "    14                                               \n",
      "    15         1       5842.0   5842.0      0.0      return emoji_counts.most_common(10)"
     ]
    }
   ],
   "source": [
    "%lprun -f q2_memory q2_memory(file_path)"
   ]
  },
  {
   "cell_type": "code",
   "execution_count": 4,
   "metadata": {},
   "outputs": [
    {
     "name": "stdout",
     "output_type": "stream",
     "text": [
      "\n"
     ]
    },
    {
     "name": "stdout",
     "output_type": "stream",
     "text": [
      "Filename: e:\\Github projects\\Data_Engineer_Challenge_LA\\src\\q2_memory.py\n",
      "\n",
      "Line #    Mem usage    Increment  Occurrences   Line Contents\n",
      "=============================================================\n",
      "     7    133.6 MiB    133.6 MiB           1   def q2_memory(file_path: str) -> List[Tuple[str, int]]:\n",
      "     8    133.6 MiB      0.0 MiB           1       emoji_counts = Counter()\n",
      "     9                                         \n",
      "    10    134.2 MiB      0.0 MiB           2       with open(file_path, \"r\") as tweets_file:\n",
      "    11    134.2 MiB   -109.6 MiB      117408           for line in tweets_file:\n",
      "    12    134.2 MiB   -110.0 MiB      117407               emojis = extract_emojis(json.loads(line)['content'])\n",
      "    13    134.2 MiB   -110.1 MiB      117407               emoji_counts.update(emojis)\n",
      "    14                                             \n",
      "    15    134.2 MiB      0.0 MiB           1       return emoji_counts.most_common(10)"
     ]
    }
   ],
   "source": [
    "%mprun -f q2_memory q2_memory(file_path)"
   ]
  },
  {
   "cell_type": "markdown",
   "metadata": {},
   "source": [
    "# Q2 Time"
   ]
  },
  {
   "cell_type": "code",
   "execution_count": 12,
   "metadata": {},
   "outputs": [
    {
     "data": {
      "text/plain": [
       "[('🙏', 5049),\n",
       " ('😂', 3072),\n",
       " ('🚜', 2972),\n",
       " ('🌾', 2182),\n",
       " ('🇮🇳', 2086),\n",
       " ('🤣', 1668),\n",
       " ('✊', 1651),\n",
       " ('❤️', 1382),\n",
       " ('🙏🏻', 1317),\n",
       " ('💚', 1040)]"
      ]
     },
     "execution_count": 12,
     "metadata": {},
     "output_type": "execute_result"
    }
   ],
   "source": [
    "q2_time(file_path)"
   ]
  },
  {
   "cell_type": "code",
   "execution_count": 3,
   "metadata": {},
   "outputs": [
    {
     "name": "stdout",
     "output_type": "stream",
     "text": [
      "Timer unit: 1e-07 s\n",
      "\n",
      "Total time: 74.8198 s\n",
      "File: e:\\Github projects\\Data_Engineer_Challenge_LA\\src\\q2_time.py\n",
      "Function: q2_time at line 7\n",
      "\n",
      "Line #      Hits         Time  Per Hit   % Time  Line Contents\n",
      "==============================================================\n",
      "     7                                           def q2_time(file_path: str) -> List[Tuple[str, int]]:\n",
      "     8         2       2869.0   1434.5      0.0      with open(file_path, \"r\") as tweets_file:\n",
      "     9         1   36698282.0    4e+07      4.9          tweets = [json.loads(line)['content'] for line in tweets_file]\n",
      "    10                                               \n",
      "    11         1        157.0    157.0      0.0      emoji_counts = Counter()\n",
      "    12                                           \n",
      "    13    117408     526576.0      4.5      0.1      for tweet in tweets:\n",
      "    14    117407  706143778.0   6014.5     94.4          emojis = extract_emojis(tweet)\n",
      "    15    117407    4821626.0     41.1      0.6          emoji_counts.update(emojis)\n",
      "    16                                               \n",
      "    17         1       5050.0   5050.0      0.0      return emoji_counts.most_common(10)"
     ]
    }
   ],
   "source": [
    "%lprun -f q2_time q2_time(file_path)"
   ]
  },
  {
   "cell_type": "code",
   "execution_count": 4,
   "metadata": {},
   "outputs": [
    {
     "name": "stdout",
     "output_type": "stream",
     "text": [
      "\n"
     ]
    },
    {
     "name": "stdout",
     "output_type": "stream",
     "text": [
      "Filename: e:\\Github projects\\Data_Engineer_Challenge_LA\\src\\q2_time.py\n",
      "\n",
      "Line #    Mem usage    Increment  Occurrences   Line Contents\n",
      "=============================================================\n",
      "     7    143.8 MiB    143.8 MiB           1   def q2_time(file_path: str) -> List[Tuple[str, int]]:\n",
      "     8    174.4 MiB      0.0 MiB           2       with open(file_path, \"r\") as tweets_file:\n",
      "     9    174.4 MiB     30.3 MiB      117410           tweets = [json.loads(line)['content'] for line in tweets_file]\n",
      "    10                                             \n",
      "    11    174.4 MiB      0.0 MiB           1       emoji_counts = Counter()\n",
      "    12                                         \n",
      "    13    174.4 MiB   -529.9 MiB      117408       for tweet in tweets:\n",
      "    14    174.4 MiB   -529.8 MiB      117407           emojis = extract_emojis(tweet)\n",
      "    15    174.4 MiB   -529.9 MiB      117407           emoji_counts.update(emojis)\n",
      "    16                                             \n",
      "    17    174.4 MiB      0.0 MiB           1       return emoji_counts.most_common(10)"
     ]
    }
   ],
   "source": [
    "%mprun -f q2_time q2_time(file_path)"
   ]
  },
  {
   "cell_type": "markdown",
   "metadata": {},
   "source": [
    "# Q3 Memory"
   ]
  },
  {
   "cell_type": "code",
   "execution_count": 3,
   "metadata": {},
   "outputs": [
    {
     "data": {
      "text/plain": [
       "[('narendramodi', 2265),\n",
       " ('Kisanektamorcha', 1840),\n",
       " ('RakeshTikaitBKU', 1644),\n",
       " ('PMOIndia', 1427),\n",
       " ('RahulGandhi', 1146),\n",
       " ('GretaThunberg', 1048),\n",
       " ('RaviSinghKA', 1019),\n",
       " ('rihanna', 986),\n",
       " ('UNHumanRights', 962),\n",
       " ('meenaharris', 926)]"
      ]
     },
     "execution_count": 3,
     "metadata": {},
     "output_type": "execute_result"
    }
   ],
   "source": [
    "q3_memory(file_path)"
   ]
  },
  {
   "cell_type": "code",
   "execution_count": 4,
   "metadata": {},
   "outputs": [
    {
     "name": "stdout",
     "output_type": "stream",
     "text": [
      "Timer unit: 1e-07 s\n",
      "\n",
      "Total time: 3.70414 s\n",
      "File: e:\\Github projects\\Data_Engineer_Challenge_LA\\src\\q3_memory.py\n",
      "Function: q3_memory at line 6\n",
      "\n",
      "Line #      Hits         Time  Per Hit   % Time  Line Contents\n",
      "==============================================================\n",
      "     6                                           def q3_memory(file_path: str) -> List[Tuple[str, int]]:\n",
      "     7         1         13.0     13.0      0.0      def generate_usernames(file):\n",
      "     8                                                   for line in file:\n",
      "     9                                                       users_mentioned = json.loads(line).get('mentionedUsers')\n",
      "    10                                                       if users_mentioned:\n",
      "    11                                                           for user in users_mentioned:\n",
      "    12                                                               yield user['username']\n",
      "    13                                               \n",
      "    14         1   36961512.0    4e+07     99.8      users_count = Counter(generate_usernames(open(file_path, \"r\")))\n",
      "    15                                               \n",
      "    16         1      79897.0  79897.0      0.2      return users_count.most_common(10)"
     ]
    }
   ],
   "source": [
    "%lprun -f q3_memory q3_memory(file_path)"
   ]
  },
  {
   "cell_type": "code",
   "execution_count": 5,
   "metadata": {},
   "outputs": [
    {
     "name": "stdout",
     "output_type": "stream",
     "text": [
      "\n"
     ]
    },
    {
     "name": "stdout",
     "output_type": "stream",
     "text": [
      "Filename: e:\\Github projects\\Data_Engineer_Challenge_LA\\src\\q3_memory.py\n",
      "\n",
      "Line #    Mem usage    Increment  Occurrences   Line Contents\n",
      "=============================================================\n",
      "     6    133.2 MiB    133.2 MiB           1   def q3_memory(file_path: str) -> List[Tuple[str, int]]:\n",
      "     7    133.2 MiB      0.0 MiB           2       def generate_usernames(file):\n",
      "     8    133.9 MiB      0.0 MiB      117408           for line in file:\n",
      "     9    133.9 MiB      0.6 MiB      117407               users_mentioned = json.loads(line).get('mentionedUsers')\n",
      "    10    133.9 MiB      0.0 MiB      117407               if users_mentioned:\n",
      "    11    133.9 MiB      0.0 MiB      141437                   for user in users_mentioned:\n",
      "    12    133.9 MiB      0.0 MiB      206806                       yield user['username']\n",
      "    13                                             \n",
      "    14    133.9 MiB      0.0 MiB           1       users_count = Counter(generate_usernames(open(file_path, \"r\")))\n",
      "    15                                             \n",
      "    16    133.9 MiB      0.0 MiB           1       return users_count.most_common(10)"
     ]
    }
   ],
   "source": [
    "%mprun -f q3_memory q3_memory(file_path)"
   ]
  },
  {
   "cell_type": "markdown",
   "metadata": {},
   "source": [
    "# Q3 Time"
   ]
  },
  {
   "cell_type": "code",
   "execution_count": 3,
   "metadata": {},
   "outputs": [
    {
     "data": {
      "text/plain": [
       "[('narendramodi', 2265),\n",
       " ('Kisanektamorcha', 1840),\n",
       " ('RakeshTikaitBKU', 1644),\n",
       " ('PMOIndia', 1427),\n",
       " ('RahulGandhi', 1146),\n",
       " ('GretaThunberg', 1048),\n",
       " ('RaviSinghKA', 1019),\n",
       " ('rihanna', 986),\n",
       " ('UNHumanRights', 962),\n",
       " ('meenaharris', 926)]"
      ]
     },
     "execution_count": 3,
     "metadata": {},
     "output_type": "execute_result"
    }
   ],
   "source": [
    "q3_time(file_path)"
   ]
  },
  {
   "cell_type": "code",
   "execution_count": 4,
   "metadata": {},
   "outputs": [
    {
     "name": "stdout",
     "output_type": "stream",
     "text": [
      "Timer unit: 1e-07 s\n",
      "\n",
      "Total time: 3.86063 s\n",
      "File: e:\\Github projects\\Data_Engineer_Challenge_LA\\src\\q3_time.py\n",
      "Function: q3_time at line 6\n",
      "\n",
      "Line #      Hits         Time  Per Hit   % Time  Line Contents\n",
      "==============================================================\n",
      "     6                                           def q3_time(file_path: str) -> List[Tuple[str, int]]:\n",
      "     7         1        123.0    123.0      0.0      users_count = Counter()\n",
      "     8                                           \n",
      "     9         2       2873.0   1436.5      0.0      with open(file_path, \"r\") as tweets_file:\n",
      "    10    117408    7861144.0     67.0     20.4          for line in tweets_file:\n",
      "    11    117407     226180.0      1.9      0.6              try:\n",
      "    12    117407   30064480.0    256.1     77.9                  users_count.update([user['username'] for user in json.loads(line)['mentionedUsers']])\n",
      "    13     79373     155613.0      2.0      0.4              except:\n",
      "    14     79373     217209.0      2.7      0.6                  pass\n",
      "    15                                           \n",
      "    16         1      78687.0  78687.0      0.2      return users_count.most_common(10)"
     ]
    }
   ],
   "source": [
    "%lprun -f q3_time q3_time(file_path)"
   ]
  },
  {
   "cell_type": "code",
   "execution_count": 5,
   "metadata": {},
   "outputs": [
    {
     "name": "stdout",
     "output_type": "stream",
     "text": [
      "\n"
     ]
    },
    {
     "name": "stdout",
     "output_type": "stream",
     "text": [
      "Filename: e:\\Github projects\\Data_Engineer_Challenge_LA\\src\\q3_time.py\n",
      "\n",
      "Line #    Mem usage    Increment  Occurrences   Line Contents\n",
      "=============================================================\n",
      "     6    133.8 MiB    133.8 MiB           1   def q3_time(file_path: str) -> List[Tuple[str, int]]:\n",
      "     7    133.8 MiB      0.0 MiB           1       users_count = Counter()\n",
      "     8                                         \n",
      "     9    134.3 MiB      0.0 MiB           2       with open(file_path, \"r\") as tweets_file:\n",
      "    10    134.3 MiB   -456.2 MiB      117408           for line in tweets_file:\n",
      "    11    134.3 MiB   -456.3 MiB      117407               try:\n",
      "    12    134.3 MiB  -1124.6 MiB      296878                   users_count.update([user['username'] for user in json.loads(line)['mentionedUsers']])\n",
      "    13    134.3 MiB   -312.7 MiB       79373               except:\n",
      "    14    134.3 MiB   -312.7 MiB       79373                   pass\n",
      "    15                                         \n",
      "    16    134.3 MiB      0.0 MiB           1       return users_count.most_common(10)"
     ]
    }
   ],
   "source": [
    "%mprun -f q3_time q3_time(file_path)"
   ]
  }
 ],
 "metadata": {
  "kernelspec": {
   "display_name": "Python 3",
   "language": "python",
   "name": "python3"
  },
  "language_info": {
   "codemirror_mode": {
    "name": "ipython",
    "version": 3
   },
   "file_extension": ".py",
   "mimetype": "text/x-python",
   "name": "python",
   "nbconvert_exporter": "python",
   "pygments_lexer": "ipython3",
   "version": "3.11.5"
  },
  "orig_nbformat": 4
 },
 "nbformat": 4,
 "nbformat_minor": 2
}
